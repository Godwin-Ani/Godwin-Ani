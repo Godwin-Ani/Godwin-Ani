{
 "cells": [
  {
   "cell_type": "code",
   "execution_count": 1,
   "id": "88337a90",
   "metadata": {
    "execution": {
     "iopub.execute_input": "2022-05-17T11:00:12.012746Z",
     "iopub.status.busy": "2022-05-17T11:00:12.012357Z",
     "iopub.status.idle": "2022-05-17T11:00:13.587735Z",
     "shell.execute_reply": "2022-05-17T11:00:13.586475Z"
    },
    "papermill": {
     "duration": 1.60819,
     "end_time": "2022-05-17T11:00:13.590429",
     "exception": false,
     "start_time": "2022-05-17T11:00:11.982239",
     "status": "completed"
    },
    "tags": []
   },
   "outputs": [],
   "source": [
    "import pandas as pd\n",
    "from sklearn.model_selection import train_test_split\n",
    "from sklearn.metrics import accuracy_score, confusion_matrix, ConfusionMatrixDisplay\n",
    "from sklearn.ensemble import RandomForestClassifier\n",
    "from sklearn.preprocessing import LabelEncoder\n",
    "import matplotlib.pyplot as plt\n",
    "import seaborn as sns\n"
   ]
  },
  {
   "cell_type": "markdown",
   "id": "4dce6378",
   "metadata": {
    "papermill": {
     "duration": 0.024495,
     "end_time": "2022-05-17T11:00:13.641562",
     "exception": false,
     "start_time": "2022-05-17T11:00:13.617067",
     "status": "completed"
    },
    "tags": []
   },
   "source": [
    "Loading the dataset."
   ]
  },
  {
   "cell_type": "code",
   "execution_count": 2,
   "id": "0c7a68db",
   "metadata": {
    "execution": {
     "iopub.execute_input": "2022-05-17T11:00:13.692934Z",
     "iopub.status.busy": "2022-05-17T11:00:13.692631Z",
     "iopub.status.idle": "2022-05-17T11:00:13.712303Z",
     "shell.execute_reply": "2022-05-17T11:00:13.711278Z"
    },
    "papermill": {
     "duration": 0.047801,
     "end_time": "2022-05-17T11:00:13.714474",
     "exception": false,
     "start_time": "2022-05-17T11:00:13.666673",
     "status": "completed"
    },
    "tags": []
   },
   "outputs": [],
   "source": [
    "data = pd.read_csv('/kaggle/input/lung-cancer/survey lung cancer.csv')"
   ]
  },
  {
   "cell_type": "markdown",
   "id": "49f70e23",
   "metadata": {
    "papermill": {
     "duration": 0.024985,
     "end_time": "2022-05-17T11:00:13.764499",
     "exception": false,
     "start_time": "2022-05-17T11:00:13.739514",
     "status": "completed"
    },
    "tags": []
   },
   "source": [
    "Inspecting the data and checking for missing or categorical values"
   ]
  },
  {
   "cell_type": "code",
   "execution_count": 3,
   "id": "29f6435b",
   "metadata": {
    "execution": {
     "iopub.execute_input": "2022-05-17T11:00:13.816944Z",
     "iopub.status.busy": "2022-05-17T11:00:13.816613Z",
     "iopub.status.idle": "2022-05-17T11:00:13.839620Z",
     "shell.execute_reply": "2022-05-17T11:00:13.839021Z"
    },
    "papermill": {
     "duration": 0.051972,
     "end_time": "2022-05-17T11:00:13.841999",
     "exception": false,
     "start_time": "2022-05-17T11:00:13.790027",
     "status": "completed"
    },
    "tags": []
   },
   "outputs": [
    {
     "data": {
      "text/html": [
       "<div>\n",
       "<style scoped>\n",
       "    .dataframe tbody tr th:only-of-type {\n",
       "        vertical-align: middle;\n",
       "    }\n",
       "\n",
       "    .dataframe tbody tr th {\n",
       "        vertical-align: top;\n",
       "    }\n",
       "\n",
       "    .dataframe thead th {\n",
       "        text-align: right;\n",
       "    }\n",
       "</style>\n",
       "<table border=\"1\" class=\"dataframe\">\n",
       "  <thead>\n",
       "    <tr style=\"text-align: right;\">\n",
       "      <th></th>\n",
       "      <th>GENDER</th>\n",
       "      <th>AGE</th>\n",
       "      <th>SMOKING</th>\n",
       "      <th>YELLOW_FINGERS</th>\n",
       "      <th>ANXIETY</th>\n",
       "      <th>PEER_PRESSURE</th>\n",
       "      <th>CHRONIC DISEASE</th>\n",
       "      <th>FATIGUE</th>\n",
       "      <th>ALLERGY</th>\n",
       "      <th>WHEEZING</th>\n",
       "      <th>ALCOHOL CONSUMING</th>\n",
       "      <th>COUGHING</th>\n",
       "      <th>SHORTNESS OF BREATH</th>\n",
       "      <th>SWALLOWING DIFFICULTY</th>\n",
       "      <th>CHEST PAIN</th>\n",
       "      <th>LUNG_CANCER</th>\n",
       "    </tr>\n",
       "  </thead>\n",
       "  <tbody>\n",
       "    <tr>\n",
       "      <th>0</th>\n",
       "      <td>M</td>\n",
       "      <td>69</td>\n",
       "      <td>1</td>\n",
       "      <td>2</td>\n",
       "      <td>2</td>\n",
       "      <td>1</td>\n",
       "      <td>1</td>\n",
       "      <td>2</td>\n",
       "      <td>1</td>\n",
       "      <td>2</td>\n",
       "      <td>2</td>\n",
       "      <td>2</td>\n",
       "      <td>2</td>\n",
       "      <td>2</td>\n",
       "      <td>2</td>\n",
       "      <td>YES</td>\n",
       "    </tr>\n",
       "    <tr>\n",
       "      <th>1</th>\n",
       "      <td>M</td>\n",
       "      <td>74</td>\n",
       "      <td>2</td>\n",
       "      <td>1</td>\n",
       "      <td>1</td>\n",
       "      <td>1</td>\n",
       "      <td>2</td>\n",
       "      <td>2</td>\n",
       "      <td>2</td>\n",
       "      <td>1</td>\n",
       "      <td>1</td>\n",
       "      <td>1</td>\n",
       "      <td>2</td>\n",
       "      <td>2</td>\n",
       "      <td>2</td>\n",
       "      <td>YES</td>\n",
       "    </tr>\n",
       "    <tr>\n",
       "      <th>2</th>\n",
       "      <td>F</td>\n",
       "      <td>59</td>\n",
       "      <td>1</td>\n",
       "      <td>1</td>\n",
       "      <td>1</td>\n",
       "      <td>2</td>\n",
       "      <td>1</td>\n",
       "      <td>2</td>\n",
       "      <td>1</td>\n",
       "      <td>2</td>\n",
       "      <td>1</td>\n",
       "      <td>2</td>\n",
       "      <td>2</td>\n",
       "      <td>1</td>\n",
       "      <td>2</td>\n",
       "      <td>NO</td>\n",
       "    </tr>\n",
       "    <tr>\n",
       "      <th>3</th>\n",
       "      <td>M</td>\n",
       "      <td>63</td>\n",
       "      <td>2</td>\n",
       "      <td>2</td>\n",
       "      <td>2</td>\n",
       "      <td>1</td>\n",
       "      <td>1</td>\n",
       "      <td>1</td>\n",
       "      <td>1</td>\n",
       "      <td>1</td>\n",
       "      <td>2</td>\n",
       "      <td>1</td>\n",
       "      <td>1</td>\n",
       "      <td>2</td>\n",
       "      <td>2</td>\n",
       "      <td>NO</td>\n",
       "    </tr>\n",
       "    <tr>\n",
       "      <th>4</th>\n",
       "      <td>F</td>\n",
       "      <td>63</td>\n",
       "      <td>1</td>\n",
       "      <td>2</td>\n",
       "      <td>1</td>\n",
       "      <td>1</td>\n",
       "      <td>1</td>\n",
       "      <td>1</td>\n",
       "      <td>1</td>\n",
       "      <td>2</td>\n",
       "      <td>1</td>\n",
       "      <td>2</td>\n",
       "      <td>2</td>\n",
       "      <td>1</td>\n",
       "      <td>1</td>\n",
       "      <td>NO</td>\n",
       "    </tr>\n",
       "  </tbody>\n",
       "</table>\n",
       "</div>"
      ],
      "text/plain": [
       "  GENDER  AGE  SMOKING  YELLOW_FINGERS  ANXIETY  PEER_PRESSURE  \\\n",
       "0      M   69        1               2        2              1   \n",
       "1      M   74        2               1        1              1   \n",
       "2      F   59        1               1        1              2   \n",
       "3      M   63        2               2        2              1   \n",
       "4      F   63        1               2        1              1   \n",
       "\n",
       "   CHRONIC DISEASE  FATIGUE   ALLERGY   WHEEZING  ALCOHOL CONSUMING  COUGHING  \\\n",
       "0                1         2         1         2                  2         2   \n",
       "1                2         2         2         1                  1         1   \n",
       "2                1         2         1         2                  1         2   \n",
       "3                1         1         1         1                  2         1   \n",
       "4                1         1         1         2                  1         2   \n",
       "\n",
       "   SHORTNESS OF BREATH  SWALLOWING DIFFICULTY  CHEST PAIN LUNG_CANCER  \n",
       "0                    2                      2           2         YES  \n",
       "1                    2                      2           2         YES  \n",
       "2                    2                      1           2          NO  \n",
       "3                    1                      2           2          NO  \n",
       "4                    2                      1           1          NO  "
      ]
     },
     "execution_count": 3,
     "metadata": {},
     "output_type": "execute_result"
    }
   ],
   "source": [
    "data.head()"
   ]
  },
  {
   "cell_type": "code",
   "execution_count": 4,
   "id": "6b395a14",
   "metadata": {
    "execution": {
     "iopub.execute_input": "2022-05-17T11:00:13.895303Z",
     "iopub.status.busy": "2022-05-17T11:00:13.894466Z",
     "iopub.status.idle": "2022-05-17T11:00:13.902468Z",
     "shell.execute_reply": "2022-05-17T11:00:13.901710Z"
    },
    "papermill": {
     "duration": 0.036695,
     "end_time": "2022-05-17T11:00:13.904450",
     "exception": false,
     "start_time": "2022-05-17T11:00:13.867755",
     "status": "completed"
    },
    "tags": []
   },
   "outputs": [
    {
     "data": {
      "text/plain": [
       "GENDER                   0\n",
       "AGE                      0\n",
       "SMOKING                  0\n",
       "YELLOW_FINGERS           0\n",
       "ANXIETY                  0\n",
       "PEER_PRESSURE            0\n",
       "CHRONIC DISEASE          0\n",
       "FATIGUE                  0\n",
       "ALLERGY                  0\n",
       "WHEEZING                 0\n",
       "ALCOHOL CONSUMING        0\n",
       "COUGHING                 0\n",
       "SHORTNESS OF BREATH      0\n",
       "SWALLOWING DIFFICULTY    0\n",
       "CHEST PAIN               0\n",
       "LUNG_CANCER              0\n",
       "dtype: int64"
      ]
     },
     "execution_count": 4,
     "metadata": {},
     "output_type": "execute_result"
    }
   ],
   "source": [
    "data.isnull().sum()"
   ]
  },
  {
   "cell_type": "code",
   "execution_count": 5,
   "id": "97bb57a5",
   "metadata": {
    "execution": {
     "iopub.execute_input": "2022-05-17T11:00:13.961012Z",
     "iopub.status.busy": "2022-05-17T11:00:13.960442Z",
     "iopub.status.idle": "2022-05-17T11:00:13.974045Z",
     "shell.execute_reply": "2022-05-17T11:00:13.973379Z"
    },
    "papermill": {
     "duration": 0.044539,
     "end_time": "2022-05-17T11:00:13.975931",
     "exception": false,
     "start_time": "2022-05-17T11:00:13.931392",
     "status": "completed"
    },
    "tags": []
   },
   "outputs": [
    {
     "data": {
      "text/plain": [
       "Index(['GENDER', 'LUNG_CANCER'], dtype='object')"
      ]
     },
     "execution_count": 5,
     "metadata": {},
     "output_type": "execute_result"
    }
   ],
   "source": [
    "data.select_dtypes(include =['object']).columns"
   ]
  },
  {
   "cell_type": "markdown",
   "id": "237c9b25",
   "metadata": {
    "papermill": {
     "duration": 0.02607,
     "end_time": "2022-05-17T11:00:14.028605",
     "exception": false,
     "start_time": "2022-05-17T11:00:14.002535",
     "status": "completed"
    },
    "tags": []
   },
   "source": [
    "The columns with categorical values would need to be transformed."
   ]
  },
  {
   "cell_type": "markdown",
   "id": "f4b8b067",
   "metadata": {
    "papermill": {
     "duration": 0.026676,
     "end_time": "2022-05-17T11:00:14.082940",
     "exception": false,
     "start_time": "2022-05-17T11:00:14.056264",
     "status": "completed"
    },
    "tags": []
   },
   "source": [
    "The data would be splitted before the transformation to avoid leakage and only the symptoms of lung cancer would be used to build the model."
   ]
  },
  {
   "cell_type": "code",
   "execution_count": 6,
   "id": "6922ddda",
   "metadata": {
    "execution": {
     "iopub.execute_input": "2022-05-17T11:00:14.137908Z",
     "iopub.status.busy": "2022-05-17T11:00:14.137546Z",
     "iopub.status.idle": "2022-05-17T11:00:14.142903Z",
     "shell.execute_reply": "2022-05-17T11:00:14.142339Z"
    },
    "papermill": {
     "duration": 0.035216,
     "end_time": "2022-05-17T11:00:14.144633",
     "exception": false,
     "start_time": "2022-05-17T11:00:14.109417",
     "status": "completed"
    },
    "tags": []
   },
   "outputs": [
    {
     "data": {
      "text/plain": [
       "Index(['GENDER', 'AGE', 'SMOKING', 'YELLOW_FINGERS', 'ANXIETY',\n",
       "       'PEER_PRESSURE', 'CHRONIC DISEASE', 'FATIGUE ', 'ALLERGY ', 'WHEEZING',\n",
       "       'ALCOHOL CONSUMING', 'COUGHING', 'SHORTNESS OF BREATH',\n",
       "       'SWALLOWING DIFFICULTY', 'CHEST PAIN', 'LUNG_CANCER'],\n",
       "      dtype='object')"
      ]
     },
     "execution_count": 6,
     "metadata": {},
     "output_type": "execute_result"
    }
   ],
   "source": [
    "data.columns"
   ]
  },
  {
   "cell_type": "code",
   "execution_count": 7,
   "id": "7c7002b3",
   "metadata": {
    "execution": {
     "iopub.execute_input": "2022-05-17T11:00:14.200080Z",
     "iopub.status.busy": "2022-05-17T11:00:14.199765Z",
     "iopub.status.idle": "2022-05-17T11:00:14.203720Z",
     "shell.execute_reply": "2022-05-17T11:00:14.202924Z"
    },
    "papermill": {
     "duration": 0.034227,
     "end_time": "2022-05-17T11:00:14.205585",
     "exception": false,
     "start_time": "2022-05-17T11:00:14.171358",
     "status": "completed"
    },
    "tags": []
   },
   "outputs": [],
   "source": [
    "symptoms = ['YELLOW_FINGERS', 'ANXIETY', 'FATIGUE ', 'WHEEZING', 'COUGHING','SHORTNESS OF BREATH', 'SWALLOWING DIFFICULTY', 'CHEST PAIN']"
   ]
  },
  {
   "cell_type": "code",
   "execution_count": 8,
   "id": "b56b219f",
   "metadata": {
    "execution": {
     "iopub.execute_input": "2022-05-17T11:00:14.261143Z",
     "iopub.status.busy": "2022-05-17T11:00:14.260827Z",
     "iopub.status.idle": "2022-05-17T11:00:14.270378Z",
     "shell.execute_reply": "2022-05-17T11:00:14.269491Z"
    },
    "papermill": {
     "duration": 0.039327,
     "end_time": "2022-05-17T11:00:14.272398",
     "exception": false,
     "start_time": "2022-05-17T11:00:14.233071",
     "status": "completed"
    },
    "tags": []
   },
   "outputs": [],
   "source": [
    "X = data[symptoms]\n",
    "y = data.LUNG_CANCER"
   ]
  },
  {
   "cell_type": "code",
   "execution_count": 9,
   "id": "00a1a1dc",
   "metadata": {
    "execution": {
     "iopub.execute_input": "2022-05-17T11:00:14.327322Z",
     "iopub.status.busy": "2022-05-17T11:00:14.327028Z",
     "iopub.status.idle": "2022-05-17T11:00:14.335962Z",
     "shell.execute_reply": "2022-05-17T11:00:14.335215Z"
    },
    "papermill": {
     "duration": 0.039021,
     "end_time": "2022-05-17T11:00:14.338066",
     "exception": false,
     "start_time": "2022-05-17T11:00:14.299045",
     "status": "completed"
    },
    "tags": []
   },
   "outputs": [],
   "source": [
    "X_train, X_test, y_train, y_test = train_test_split(X,y, stratify = y, random_state = 42)"
   ]
  },
  {
   "cell_type": "markdown",
   "id": "7708cb1c",
   "metadata": {
    "papermill": {
     "duration": 0.026875,
     "end_time": "2022-05-17T11:00:14.391421",
     "exception": false,
     "start_time": "2022-05-17T11:00:14.364546",
     "status": "completed"
    },
    "tags": []
   },
   "source": [
    "Transforming the label to numerical values with LabelEncoder."
   ]
  },
  {
   "cell_type": "code",
   "execution_count": 10,
   "id": "5746f749",
   "metadata": {
    "execution": {
     "iopub.execute_input": "2022-05-17T11:00:14.446830Z",
     "iopub.status.busy": "2022-05-17T11:00:14.446004Z",
     "iopub.status.idle": "2022-05-17T11:00:14.450667Z",
     "shell.execute_reply": "2022-05-17T11:00:14.449980Z"
    },
    "papermill": {
     "duration": 0.034394,
     "end_time": "2022-05-17T11:00:14.452498",
     "exception": false,
     "start_time": "2022-05-17T11:00:14.418104",
     "status": "completed"
    },
    "tags": []
   },
   "outputs": [],
   "source": [
    "le = LabelEncoder()\n",
    "y_train = le.fit_transform(y_train)\n",
    "y_test = le.transform(y_test)"
   ]
  },
  {
   "cell_type": "markdown",
   "id": "f1cdf8d6",
   "metadata": {
    "papermill": {
     "duration": 0.026287,
     "end_time": "2022-05-17T11:00:14.505305",
     "exception": false,
     "start_time": "2022-05-17T11:00:14.479018",
     "status": "completed"
    },
    "tags": []
   },
   "source": [
    "Defining the model. The target is a category so this is a classification problem and Random forest classifier would be used."
   ]
  },
  {
   "cell_type": "code",
   "execution_count": 11,
   "id": "507c2a82",
   "metadata": {
    "execution": {
     "iopub.execute_input": "2022-05-17T11:00:14.563536Z",
     "iopub.status.busy": "2022-05-17T11:00:14.563182Z",
     "iopub.status.idle": "2022-05-17T11:00:14.568105Z",
     "shell.execute_reply": "2022-05-17T11:00:14.567192Z"
    },
    "papermill": {
     "duration": 0.038501,
     "end_time": "2022-05-17T11:00:14.570838",
     "exception": false,
     "start_time": "2022-05-17T11:00:14.532337",
     "status": "completed"
    },
    "tags": []
   },
   "outputs": [],
   "source": [
    "model = RandomForestClassifier(n_estimators = 100, random_state = 42)"
   ]
  },
  {
   "cell_type": "markdown",
   "id": "56a23b1a",
   "metadata": {
    "papermill": {
     "duration": 0.031549,
     "end_time": "2022-05-17T11:00:14.638840",
     "exception": false,
     "start_time": "2022-05-17T11:00:14.607291",
     "status": "completed"
    },
    "tags": []
   },
   "source": [
    "Fitting the data to the Random Forest model."
   ]
  },
  {
   "cell_type": "code",
   "execution_count": 12,
   "id": "c117104c",
   "metadata": {
    "execution": {
     "iopub.execute_input": "2022-05-17T11:00:14.698629Z",
     "iopub.status.busy": "2022-05-17T11:00:14.697616Z",
     "iopub.status.idle": "2022-05-17T11:00:14.890170Z",
     "shell.execute_reply": "2022-05-17T11:00:14.889314Z"
    },
    "papermill": {
     "duration": 0.226651,
     "end_time": "2022-05-17T11:00:14.892272",
     "exception": false,
     "start_time": "2022-05-17T11:00:14.665621",
     "status": "completed"
    },
    "tags": []
   },
   "outputs": [
    {
     "data": {
      "text/plain": [
       "RandomForestClassifier(random_state=42)"
      ]
     },
     "execution_count": 12,
     "metadata": {},
     "output_type": "execute_result"
    }
   ],
   "source": [
    "model.fit(X_train,y_train)"
   ]
  },
  {
   "cell_type": "markdown",
   "id": "e494f091",
   "metadata": {
    "papermill": {
     "duration": 0.027352,
     "end_time": "2022-05-17T11:00:14.957825",
     "exception": false,
     "start_time": "2022-05-17T11:00:14.930473",
     "status": "completed"
    },
    "tags": []
   },
   "source": [
    "Predicting with the Random Forest model."
   ]
  },
  {
   "cell_type": "code",
   "execution_count": 13,
   "id": "abf57b65",
   "metadata": {
    "execution": {
     "iopub.execute_input": "2022-05-17T11:00:15.014335Z",
     "iopub.status.busy": "2022-05-17T11:00:15.014087Z",
     "iopub.status.idle": "2022-05-17T11:00:15.033106Z",
     "shell.execute_reply": "2022-05-17T11:00:15.032308Z"
    },
    "papermill": {
     "duration": 0.050328,
     "end_time": "2022-05-17T11:00:15.035358",
     "exception": false,
     "start_time": "2022-05-17T11:00:14.985030",
     "status": "completed"
    },
    "tags": []
   },
   "outputs": [],
   "source": [
    "y_pred = model.predict(X_test)"
   ]
  },
  {
   "cell_type": "markdown",
   "id": "dc1fb525",
   "metadata": {
    "papermill": {
     "duration": 0.026684,
     "end_time": "2022-05-17T11:00:15.089044",
     "exception": false,
     "start_time": "2022-05-17T11:00:15.062360",
     "status": "completed"
    },
    "tags": []
   },
   "source": [
    "Evaluating the random forest model."
   ]
  },
  {
   "cell_type": "code",
   "execution_count": 14,
   "id": "7d5d77cc",
   "metadata": {
    "execution": {
     "iopub.execute_input": "2022-05-17T11:00:15.145299Z",
     "iopub.status.busy": "2022-05-17T11:00:15.144689Z",
     "iopub.status.idle": "2022-05-17T11:00:15.151110Z",
     "shell.execute_reply": "2022-05-17T11:00:15.150206Z"
    },
    "papermill": {
     "duration": 0.037229,
     "end_time": "2022-05-17T11:00:15.153382",
     "exception": false,
     "start_time": "2022-05-17T11:00:15.116153",
     "status": "completed"
    },
    "tags": []
   },
   "outputs": [
    {
     "name": "stdout",
     "output_type": "stream",
     "text": [
      "The accuracy score of this Random Forest model is 92.3%\n"
     ]
    }
   ],
   "source": [
    "print('The accuracy score of this Random Forest model is {0:.1f}%'.format(100 *accuracy_score(y_test,y_pred)))"
   ]
  },
  {
   "cell_type": "code",
   "execution_count": 15,
   "id": "f16981f5",
   "metadata": {
    "execution": {
     "iopub.execute_input": "2022-05-17T11:00:15.210749Z",
     "iopub.status.busy": "2022-05-17T11:00:15.210183Z",
     "iopub.status.idle": "2022-05-17T11:00:15.459283Z",
     "shell.execute_reply": "2022-05-17T11:00:15.458397Z"
    },
    "papermill": {
     "duration": 0.281291,
     "end_time": "2022-05-17T11:00:15.462271",
     "exception": false,
     "start_time": "2022-05-17T11:00:15.180980",
     "status": "completed"
    },
    "tags": []
   },
   "outputs": [
    {
     "name": "stdout",
     "output_type": "stream",
     "text": [
      "The confusion matrix of this Random Forest model\n"
     ]
    },
    {
     "data": {
      "text/plain": [
       "<sklearn.metrics._plot.confusion_matrix.ConfusionMatrixDisplay at 0x7f636d675450>"
      ]
     },
     "execution_count": 15,
     "metadata": {},
     "output_type": "execute_result"
    },
    {
     "data": {
      "image/png": "[encoded data removed]",
      "text/plain": [
       "<Figure size 432x288 with 2 Axes>"
      ]
     },
     "metadata": {
      "needs_background": "light"
     },
     "output_type": "display_data"
    }
   ],
   "source": [
    "print('The confusion matrix of this Random Forest model')\n",
    "ConfusionMatrixDisplay.from_predictions(y_test, y_pred)"
   ]
  },
  {
   "cell_type": "markdown",
   "id": "a2046358",
   "metadata": {
    "papermill": {
     "duration": 0.03066,
     "end_time": "2022-05-17T11:00:15.526681",
     "exception": false,
     "start_time": "2022-05-17T11:00:15.496021",
     "status": "completed"
    },
    "tags": []
   },
   "source": [
    "The model seems to be good, so the next step is to calculate the features importance."
   ]
  },
  {
   "cell_type": "code",
   "execution_count": 16,
   "id": "8e47a821",
   "metadata": {
    "execution": {
     "iopub.execute_input": "2022-05-17T11:00:15.587686Z",
     "iopub.status.busy": "2022-05-17T11:00:15.587307Z",
     "iopub.status.idle": "2022-05-17T11:00:15.611852Z",
     "shell.execute_reply": "2022-05-17T11:00:15.610961Z"
    },
    "papermill": {
     "duration": 0.057146,
     "end_time": "2022-05-17T11:00:15.614157",
     "exception": false,
     "start_time": "2022-05-17T11:00:15.557011",
     "status": "completed"
    },
    "tags": []
   },
   "outputs": [
    {
     "data": {
      "text/html": [
       "<div>\n",
       "<style scoped>\n",
       "    .dataframe tbody tr th:only-of-type {\n",
       "        vertical-align: middle;\n",
       "    }\n",
       "\n",
       "    .dataframe tbody tr th {\n",
       "        vertical-align: top;\n",
       "    }\n",
       "\n",
       "    .dataframe thead th {\n",
       "        text-align: right;\n",
       "    }\n",
       "</style>\n",
       "<table border=\"1\" class=\"dataframe\">\n",
       "  <thead>\n",
       "    <tr style=\"text-align: right;\">\n",
       "      <th></th>\n",
       "      <th>Symptoms</th>\n",
       "      <th>Importance</th>\n",
       "    </tr>\n",
       "  </thead>\n",
       "  <tbody>\n",
       "    <tr>\n",
       "      <th>0</th>\n",
       "      <td>YELLOW_FINGERS</td>\n",
       "      <td>0.152723</td>\n",
       "    </tr>\n",
       "    <tr>\n",
       "      <th>4</th>\n",
       "      <td>COUGHING</td>\n",
       "      <td>0.150052</td>\n",
       "    </tr>\n",
       "    <tr>\n",
       "      <th>7</th>\n",
       "      <td>CHEST PAIN</td>\n",
       "      <td>0.133490</td>\n",
       "    </tr>\n",
       "    <tr>\n",
       "      <th>2</th>\n",
       "      <td>FATIGUE</td>\n",
       "      <td>0.124247</td>\n",
       "    </tr>\n",
       "    <tr>\n",
       "      <th>3</th>\n",
       "      <td>WHEEZING</td>\n",
       "      <td>0.122971</td>\n",
       "    </tr>\n",
       "    <tr>\n",
       "      <th>1</th>\n",
       "      <td>ANXIETY</td>\n",
       "      <td>0.120900</td>\n",
       "    </tr>\n",
       "    <tr>\n",
       "      <th>5</th>\n",
       "      <td>SHORTNESS OF BREATH</td>\n",
       "      <td>0.106120</td>\n",
       "    </tr>\n",
       "    <tr>\n",
       "      <th>6</th>\n",
       "      <td>SWALLOWING DIFFICULTY</td>\n",
       "      <td>0.089497</td>\n",
       "    </tr>\n",
       "  </tbody>\n",
       "</table>\n",
       "</div>"
      ],
      "text/plain": [
       "                Symptoms  Importance\n",
       "0         YELLOW_FINGERS    0.152723\n",
       "4               COUGHING    0.150052\n",
       "7             CHEST PAIN    0.133490\n",
       "2               FATIGUE     0.124247\n",
       "3               WHEEZING    0.122971\n",
       "1                ANXIETY    0.120900\n",
       "5    SHORTNESS OF BREATH    0.106120\n",
       "6  SWALLOWING DIFFICULTY    0.089497"
      ]
     },
     "execution_count": 16,
     "metadata": {},
     "output_type": "execute_result"
    }
   ],
   "source": [
    "features_importance = pd.DataFrame({'Symptoms': X.columns, 'Importance':model.feature_importances_}).sort_values('Importance', ascending= False)\n",
    "features_importance"
   ]
  },
  {
   "cell_type": "markdown",
   "id": "e1afe211",
   "metadata": {
    "papermill": {
     "duration": 0.029447,
     "end_time": "2022-05-17T11:00:15.673736",
     "exception": false,
     "start_time": "2022-05-17T11:00:15.644289",
     "status": "completed"
    },
    "tags": []
   },
   "source": [
    "A barplot would be made to better understand this."
   ]
  },
  {
   "cell_type": "code",
   "execution_count": 17,
   "id": "8f262e30",
   "metadata": {
    "execution": {
     "iopub.execute_input": "2022-05-17T11:00:15.734176Z",
     "iopub.status.busy": "2022-05-17T11:00:15.733849Z",
     "iopub.status.idle": "2022-05-17T11:00:16.084292Z",
     "shell.execute_reply": "2022-05-17T11:00:16.083604Z"
    },
    "papermill": {
     "duration": 0.383236,
     "end_time": "2022-05-17T11:00:16.086379",
     "exception": false,
     "start_time": "2022-05-17T11:00:15.703143",
     "status": "completed"
    },
    "tags": []
   },
   "outputs": [
    {
     "data": {
      "text/plain": [
       "(array([0, 1, 2, 3, 4, 5, 6, 7]),\n",
       " [Text(0, 0, 'YELLOW_FINGERS'),\n",
       "  Text(1, 0, 'COUGHING'),\n",
       "  Text(2, 0, 'CHEST PAIN'),\n",
       "  Text(3, 0, 'FATIGUE '),\n",
       "  Text(4, 0, 'WHEEZING'),\n",
       "  Text(5, 0, 'ANXIETY'),\n",
       "  Text(6, 0, 'SHORTNESS OF BREATH'),\n",
       "  Text(7, 0, 'SWALLOWING DIFFICULTY')])"
      ]
     },
     "execution_count": 17,
     "metadata": {},
     "output_type": "execute_result"
    },
    {
     "data": {
      "image/png": "[encoded data removed]",
      "text/plain": [
       "<Figure size 432x288 with 1 Axes>"
      ]
     },
     "metadata": {
      "needs_background": "light"
     },
     "output_type": "display_data"
    }
   ],
   "source": [
    "sns.barplot(x= features_importance.Symptoms, y = features_importance.Importance)\n",
    "plt.rcParams['figure.figsize'] = (15,7)\n",
    "plt.title('visualizing the symptoms \\n importance', fontsize = 40, fontweight = 'bold')\n",
    "plt.xlabel('Symptoms', fontsize = 45)\n",
    "plt.ylabel('Importance', fontsize = 45 )\n",
    "plt.xticks(rotation = 45, horizontalalignment = 'right', fontweight = 'light', fontsize = 'x-large')"
   ]
  },
  {
   "cell_type": "markdown",
   "id": "8ab6205b",
   "metadata": {
    "papermill": {
     "duration": 0.032298,
     "end_time": "2022-05-17T11:00:16.150724",
     "exception": false,
     "start_time": "2022-05-17T11:00:16.118426",
     "status": "completed"
    },
    "tags": []
   },
   "source": [
    "From this random forest model, we have been able to show that the most important symptoms for lung cancer are yellow fingers, coughing and chest pain."
   ]
  }
 ],
 "metadata": {
  "kernelspec": {
   "display_name": "Python 3",
   "language": "python",
   "name": "python3"
  },
  "language_info": {
   "codemirror_mode": {
    "name": "ipython",
    "version": 3
   },
   "file_extension": ".py",
   "mimetype": "text/x-python",
   "name": "python",
   "nbconvert_exporter": "python",
   "pygments_lexer": "ipython3",
   "version": "3.7.12"
  },
  "papermill": {
   "default_parameters": {},
   "duration": 15.149827,
   "end_time": "2022-05-17T11:00:16.910963",
   "environment_variables": {},
   "exception": null,
   "input_path": "__notebook__.ipynb",
   "output_path": "__notebook__.ipynb",
   "parameters": {},
   "start_time": "2022-05-17T11:00:01.761136",
   "version": "2.3.4"
  }
 },
 "nbformat": 4,
 "nbformat_minor": 5
}
